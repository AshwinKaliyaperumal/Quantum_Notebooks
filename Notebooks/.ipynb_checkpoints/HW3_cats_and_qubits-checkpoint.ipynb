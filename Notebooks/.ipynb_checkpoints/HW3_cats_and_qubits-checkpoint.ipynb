{
 "cells": [
  {
   "cell_type": "markdown",
   "metadata": {},
   "source": [
    "# Cats and Qubits\n",
    "\n",
    "Quantum Mechanics has fundamentally changed the way we study natural phenomena on microscopic scales. However, we've only just started to realize how quantum mechanics can also revolutionize information processing and computer science. The new and promising field of quantum computing makes use of the powerful, albeit sometimes unintuitive, quantum phenomena.\n",
    "\n",
    "Classical information processing begins with a bit, and analogously, quantum computing begins with a qubit. Information is measured in bits, where each bit will only ever be in one of two possible states (commonly referred to as \"0\" and \"1\"). A qubit is a two state quantum-system, so it's quite similar in that they only ever hold one bit of information, but the superposition principle in quantum mechanics allows a qubit to occupy any one of the continuum of states in Hilbert space - sounds like a contradiction, huh?\n",
    "\n",
    "Remember that even though a quantum system can occupy any state in Hilbert space, the only way we can get information from a qubit is by measuring it, at which point the state will collapse to one of the two possible basis states. For simplicity, let's choose a measurement operator which communtes with the hamiltonian of our system, so we don't have to worry about the time dependence of our system. Now we can define the two eigenstates of our measurement operator to be $|0\\rangle$ and $|1\\rangle$ which forms our \"computational basis.\" (In practice, the measurement operator that forms our computational basis usually is the hamiltonian.)\n",
    "\n",
    "So in general, the state of our qubit $|\\psi \\rangle$ can be written as:\n",
    "\n",
    "$$ |\\psi \\rangle = \\alpha |0\\rangle + \\beta |1\\rangle $$\n",
    "\n",
    "for any $\\alpha$ and $\\beta$ such that $|\\alpha|^2 + |\\beta|^2 = 1$."
   ]
  },
  {
   "cell_type": "markdown",
   "metadata": {},
   "source": [
    "## Quantum Circuits\n",
    "\n",
    "Just as classical bits are processed in circuits with logic gates, qubits are processed in quantum circuits using quantum logic gates.\n",
    "\n",
    "A very convenient framework for building, and simulating quantum circuits using python is `qiskit`, which we'll use now."
   ]
  },
  {
   "cell_type": "code",
   "execution_count": 1,
   "metadata": {},
   "outputs": [],
   "source": [
    "import numpy as np\n",
    "%matplotlib widget\n",
    "import matplotlib.pyplot as plt\n",
    "from qiskit import QuantumCircuit\n",
    "from qiskit_aer import AerSimulator # for simulating circuits\n",
    "from qiskit.visualization import plot_histogram\n",
    "from qiskit.transpiler.preset_passmanagers import generate_preset_pass_manager"
   ]
  },
  {
   "cell_type": "markdown",
   "metadata": {},
   "source": [
    "In `qiskit`, you can create either `QuantumRegister`s or `ClassicalRegister`s to hold quantum or classical information respectively. These registers can be added to your quantum circuit to process the information therein.\n",
    "\n",
    "For details on the API, execute a cell with `QuantumRegister?` or `QuantumCircuit?`. For now, let's create a quantum circuit using 1 qubit"
   ]
  },
  {
   "cell_type": "code",
   "execution_count": 2,
   "metadata": {},
   "outputs": [],
   "source": [
    "circ = QuantumCircuit(1)"
   ]
  },
  {
   "cell_type": "markdown",
   "metadata": {},
   "source": [
    "Your circuits can be visualized using the `draw` function."
   ]
  },
  {
   "cell_type": "code",
   "execution_count": 3,
   "metadata": {},
   "outputs": [
    {
     "data": {
      "image/png": "[encoded data removed]",
      "text/plain": [
       "<Figure size 143.647x117.056 with 1 Axes>"
      ]
     },
     "execution_count": 3,
     "metadata": {},
     "output_type": "execute_result"
    },
    {
     "data": {
      "application/vnd.jupyter.widget-view+json": {
       "model_id": "b78b8438e22a4c6dab15fd54f12bb446",
       "version_major": 2,
       "version_minor": 0
      },
      "image/png": "[encoded data removed]",
      "text/html": [
       "\n",
       "            <div style=\"display: inline-block;\">\n",
       "                <div class=\"jupyter-widgets widget-label\" style=\"text-align: center;\">\n",
       "                    Figure\n",
       "                </div>\n",
       "                <img src='data:image/png;base64,iVBORw0KGgoAAAANSUhEUgAAAI8AAAB1CAYAAAB3arLsAAAAOXRFWHRTb2Z0d2FyZQBNYXRwbG90bGliIHZlcnNpb24zLjkuMywgaHR0cHM6Ly9tYXRwbG90bGliLm9yZy/GU6VOAAAACXBIWXMAAA9hAAAPYQGoP6dpAAADbUlEQVR4nO3Yv0orWxiG8TcSMWglQQnIiGCKqKiFaQQbGwvvQMgN2ImKaJ3eK0iphaUXYGUhQioF0c4YAxFFkPi3ydrNRjhszznkdZ89J8zzK7NmMl/xMLNmUiGEIMDQE/cA6F7EAxvxwEY8sBEPbMQDG/HARjywEQ9sxAMb8cBGPLARD2zEAxvxwEY8sBEPbMQDG/HARjywEQ9sxAMb8cBGPLARD2zEAxvxwEY8sBEPbMQDG/HARjywEQ9sxAMb8cBGPLARD2zEAxvxwEY8sBEPbMQDG/HARjywEQ9sxAMb8cBGPLARD2zEAxvxwEY8sBEPbMQDG/HARjywJS6eh4cHbW5uanx8XJlMRlEUaWNjQ29vbyqVSkqlUqpUKnGP2RXScQ/wJ52dnWlpaUl3d3caGBjQ5OSkGo2Gdnd3dX19rZubG0nS7OxszJN2iZAQ9/f3IYqiIClsbW2FVqv1uVYul4OkkE6nQ09PT3h9fY1x0u6RmHhWVlaCpLC+vv7LWrvdDoVCIUgKhUIhhum6UyL2PBcXFzo4ONDw8LDK5fIv66lUSnNzc5J4ZHUiEfHs7++r3W6rVCqpv7//y2P6+vokEU8nEhHP0dGRJGlxcfFvj7m9vZVEPJ1IxNtWrVaTJI2NjX25/vHxodPTU0nfi6dYLKrZbNrn/9dyuZyq1epv+79ExPPy8iJJen9//3J9b29PT09PymazGhkZsa/TbDbVaDTs87tNIuLJ5XJqtVqqVqsqFot/WavX69rZ2ZEkzczMfPs6/2e/fb64X/f+hNXV1SApRFEUrq6uPn8/OTkJ+Xw+9Pb2BklhbW0txim7TyI2zNvb2xocHFS9XtfU1JSmp6eVz+c1Pz+viYkJLSwsSGKz3KlExDM6Oqrj42MtLy8rk8moVqtpaGhIlUpFh4eHury8lEQ8nUqFEELcQ8Tp8fFR2WxW6XRaz8/Pn9978O8Scef5J+fn55KkQqFAOB0inp/x8MjqHPEQj414fsbz3W88SZT4DTN8ib/zwEc8sBEPbMQDG/HARjywEQ9sxAMb8cBGPLARD2zEAxvxwEY8sBEPbMQDG/HARjywEQ9sxAMb8cBGPLARD2zEAxvxwEY8sBEPbMQDG/HARjywEQ9sxAMb8cBGPLARD2zEAxvxwEY8sBEPbMQDG/HA9gP3YgrQalmYMQAAAABJRU5ErkJggg==' width=143.6472314244/>\n",
       "            </div>\n",
       "        "
      ],
      "text/plain": [
       "Canvas(toolbar=Toolbar(toolitems=[('Home', 'Reset original view', 'home', 'home'), ('Back', 'Back to previous …"
      ]
     },
     "metadata": {},
     "output_type": "display_data"
    }
   ],
   "source": [
    "circ.draw(\"mpl\")"
   ]
  },
  {
   "cell_type": "markdown",
   "metadata": {},
   "source": [
    "So far our circuit doesn't look very exciting, so let's add a hadamard gate. Remember a hadamard gate rotates our state from the Z (computational) basis to the X basis."
   ]
  },
  {
   "cell_type": "code",
   "execution_count": 4,
   "metadata": {},
   "outputs": [
    {
     "data": {
      "image/png": "[encoded data removed]",
      "text/plain": [
       "<Figure size 413.165x200.667 with 1 Axes>"
      ]
     },
     "execution_count": 4,
     "metadata": {},
     "output_type": "execute_result"
    },
    {
     "data": {
      "application/vnd.jupyter.widget-view+json": {
       "model_id": "56c13897d8d5459a861e484c82adc762",
       "version_major": 2,
       "version_minor": 0
      },
      "image/png": "[encoded data removed]",
      "text/html": [
       "\n",
       "            <div style=\"display: inline-block;\">\n",
       "                <div class=\"jupyter-widgets widget-label\" style=\"text-align: center;\">\n",
       "                    Figure\n",
       "                </div>\n",
       "                <img src='data:image/png;base64,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' width=413.16471812055005/>\n",
       "            </div>\n",
       "        "
      ],
      "text/plain": [
       "Canvas(toolbar=Toolbar(toolitems=[('Home', 'Reset original view', 'home', 'home'), ('Back', 'Back to previous …"
      ]
     },
     "metadata": {},
     "output_type": "display_data"
    }
   ],
   "source": [
    "circ.h(0)\n",
    "circ.measure_all()\n",
    "circ.draw(\"mpl\")"
   ]
  },
  {
   "cell_type": "markdown",
   "metadata": {},
   "source": [
    "Now we can simulate our circuit to do some basic quantum computing. First, you have to choose what kind of backend to use, we'll using two different backends called `statevector_simulator` to compute the final state of your system, and the `qasm_simulator` to simulate a quantum computer running your circuit (which means you have to measure your qubits at the end). However there are also some backends that will run your circuit on a real quantum computer (for more information check out IMBQ Experience).\n",
    "\n",
    "After choosing your backend, you can create a job using the `execute` function.\n",
    "You can monitor your job using the `status` function (although the jobs should complete quickly if you use simulators)."
   ]
  },
  {
   "cell_type": "code",
   "execution_count": 5,
   "metadata": {},
   "outputs": [],
   "source": [
    "from qiskit.primitives import StatevectorSampler\n",
    " \n",
    "sampler = StatevectorSampler()"
   ]
  },
  {
   "cell_type": "code",
   "execution_count": 6,
   "metadata": {},
   "outputs": [
    {
     "name": "stdout",
     "output_type": "stream",
     "text": [
      "The number of bitstrings is: 1024\n"
     ]
    }
   ],
   "source": [
    "# Transpile circuit\n",
    "pm = generate_preset_pass_manager(optimization_level=1)\n",
    "isa_circuit = pm.run(circ)\n",
    "# Run using sampler\n",
    "result = sampler.run([circ]).result()\n",
    "# Access result data for PUB 0\n",
    "data_pub = result[0].data\n",
    "# Access bitstring for the classical register \"meas\"\n",
    "bitstrings = data_pub.meas.get_bitstrings()\n",
    "print(f\"The number of bitstrings is: {len(bitstrings)}\")"
   ]
  },
  {
   "cell_type": "markdown",
   "metadata": {},
   "source": [
    "Once your job is done, you can collect the results using the `result` function. In our case, since we used the `statevector_simulator` backend, we can get the final statevector using the `get_statevector` function, which also allows us to specify the desired precision."
   ]
  },
  {
   "cell_type": "code",
   "execution_count": 7,
   "metadata": {},
   "outputs": [
    {
     "name": "stdout",
     "output_type": "stream",
     "text": [
      "The counts are: {'1': 539, '0': 485}\n"
     ]
    }
   ],
   "source": [
    "# Get counts for the classical register \"meas\"\n",
    "counts = data_pub.meas.get_counts()\n",
    "print(f\"The counts are: {counts}\")"
   ]
  },
  {
   "cell_type": "markdown",
   "metadata": {},
   "source": [
    "Note that the statevector contains the amplitudes for each possible outcome in the computation basis which are in general complex.\n",
    "\n",
    "Given statevector $|\\psi \\rangle = \\begin{pmatrix}\\alpha \\\\ \\beta\\end{pmatrix}$, the probability of measuring $0$ is $\\mathrm{Prob}(0) = |\\alpha|^2$."
   ]
  },
  {
   "cell_type": "code",
   "execution_count": 8,
   "metadata": {},
   "outputs": [
    {
     "ename": "TypeError",
     "evalue": "bad operand type for abs(): 'dict'",
     "output_type": "error",
     "traceback": [
      "\u001b[0;31m---------------------------------------------------------------------------\u001b[0m",
      "\u001b[0;31mTypeError\u001b[0m                                 Traceback (most recent call last)",
      "Cell \u001b[0;32mIn[8], line 1\u001b[0m\n\u001b[0;32m----> 1\u001b[0m probs \u001b[38;5;241m=\u001b[39m \u001b[43mnp\u001b[49m\u001b[38;5;241;43m.\u001b[39;49m\u001b[43mabs\u001b[49m\u001b[43m(\u001b[49m\u001b[43mcounts\u001b[49m\u001b[43m)\u001b[49m\u001b[38;5;241m*\u001b[39m\u001b[38;5;241m*\u001b[39m\u001b[38;5;241m2\u001b[39m\n\u001b[1;32m      2\u001b[0m \u001b[38;5;28mprint\u001b[39m(probs)\n",
      "\u001b[0;31mTypeError\u001b[0m: bad operand type for abs(): 'dict'"
     ]
    }
   ],
   "source": [
    "probs = np.abs(counts)**2\n",
    "print(probs)"
   ]
  },
  {
   "cell_type": "markdown",
   "metadata": {},
   "source": [
    "Note that the probabilities don't add up to 1, as they should for a properly normalized state. To fix this, you can increase the precision (using the `decimals` argument) of the statevector we got from the result. Try increasing the precision to 8 decimals and printing out the improved estimate."
   ]
  },
  {
   "cell_type": "markdown",
   "metadata": {},
   "source": [
    "## Cat States\n",
    "\n",
    "Named after Schrödinger's (possibly) misfortunate cat, a cat state is an equal superposition with only two possible, very opposite outcomes.\n",
    "\n",
    "$$ |\\mathrm{🐱} \\rangle = \\frac{1}{\\sqrt{2}} (|000\\dots00 \\rangle + |111\\dots11 \\rangle) $$\n",
    "\n",
    "Are the individual qubits in a cat state entangled? How do you know?"
   ]
  },
  {
   "cell_type": "markdown",
   "metadata": {},
   "source": [
    "[Your Answer Here]"
   ]
  },
  {
   "cell_type": "markdown",
   "metadata": {},
   "source": [
    "Starting from the default state of all zeros, let's build to circuit to create a cat state for a two qubit system."
   ]
  },
  {
   "cell_type": "code",
   "execution_count": null,
   "metadata": {},
   "outputs": [],
   "source": [
    "q = QuantumRegister(2, 'cat')\n",
    "circ = QuantumCircuit(q)\n",
    "circ.draw()"
   ]
  },
  {
   "cell_type": "markdown",
   "metadata": {},
   "source": [
    "We'll need another hadamard - in fact, essentially all quantum circuits begin with atleast one hadamard, any ideas why?"
   ]
  },
  {
   "cell_type": "code",
   "execution_count": null,
   "metadata": {},
   "outputs": [],
   "source": [
    "circ.h(q[0])\n",
    "circ.draw()"
   ]
  },
  {
   "cell_type": "markdown",
   "metadata": {},
   "source": [
    "Next we'll use a controlled NOT gate (aka CNOT or CX), which is a very important binary gate. The CNOT gate takes a control qubit and a target qubit as input, and inverts (applies an X gate) the target qubit if and only if the control qubit is 1.\n",
    "\n",
    "Classically, such a gate is nothing special, but in the quantum realm, thanks to superposition, the CNOT gate allows us entangle qubits."
   ]
  },
  {
   "cell_type": "code",
   "execution_count": null,
   "metadata": {},
   "outputs": [],
   "source": [
    "circ.cx(q[0],q[1])\n",
    "circ.draw()"
   ]
  },
  {
   "cell_type": "markdown",
   "metadata": {},
   "source": [
    "Now let's simulate our gate to compute the resulting state."
   ]
  },
  {
   "cell_type": "code",
   "execution_count": null,
   "metadata": {},
   "outputs": [],
   "source": [
    "backend = BasicAer.get_backend('statevector_simulator')\n",
    "job = execute(circ, backend)\n",
    "result = job.result()\n",
    "catstate = result.get_statevector(circ)\n",
    "print('Statevector:', catstate)\n",
    "print('Probabilities:', np.abs(catstate)**2)"
   ]
  },
  {
   "cell_type": "markdown",
   "metadata": {},
   "source": [
    "Remember the dimensions are ordered: $00$, $01$, $10$, $11$, so the state we are left with after applying our circuit can only have two outcomes: $00$ or $11$ - or in cat speak - very dead or very alive.\n",
    "\n",
    "Real quantum algorithms use a combination of quantum and classical circuits to process information. `qiskit` allows us to include classical registers to store the measured outcomes of our quantum circuits."
   ]
  },
  {
   "cell_type": "code",
   "execution_count": null,
   "metadata": {},
   "outputs": [],
   "source": [
    "c = ClassicalRegister(2, 'c')"
   ]
  },
  {
   "cell_type": "code",
   "execution_count": null,
   "metadata": {},
   "outputs": [],
   "source": [
    "circ.add_register(c)\n",
    "circ.measure(q[0], c[0])\n",
    "circ.measure(q[1], c[1])\n",
    "circ.draw()"
   ]
  },
  {
   "cell_type": "markdown",
   "metadata": {},
   "source": [
    "Now let's use the other backend, `qasm_simulator` to simulate running our circuit on real hardware, in which case we don't have access to the full state vector. Instead we merely get a single outcome each time run our circuit, so we can conduct many trials to get a sense of the statistics.\n",
    "\n",
    "When submitting the job, we can use the `shots` argument to specify how many independent trials we want to run."
   ]
  },
  {
   "cell_type": "code",
   "execution_count": null,
   "metadata": {},
   "outputs": [],
   "source": [
    "backend = BasicAer.get_backend('qasm_simulator')\n",
    "job = execute(circ, backend, shots=1000)\n",
    "result = job.result()"
   ]
  },
  {
   "cell_type": "markdown",
   "metadata": {},
   "source": [
    "After running the job we can view a histogram of the outcomes."
   ]
  },
  {
   "cell_type": "code",
   "execution_count": null,
   "metadata": {},
   "outputs": [],
   "source": [
    "counts = result.get_counts()\n",
    "print(counts)\n",
    "plot_histogram(counts)"
   ]
  },
  {
   "cell_type": "markdown",
   "metadata": {},
   "source": [
    "### Problem 1: Three Qubit Cat\n",
    "\n",
    "Build a quantum circuit that produces a 3 qubit cat state and confirm that it is a cat state by simulating your circuit using the `statevector_simulator` and printing the resulting statevector.\n",
    "\n",
    "In other words, starting from the (default) state $| \\psi \\rangle = |000\\rangle$, build a circuit $\\hat{\\mathbf{U}}$ which has the following effect:\n",
    "\n",
    "$$ \\hat{\\mathbf{U}} |\\psi\\rangle = \\frac{1}{\\sqrt{2}}(|000\\rangle + |111\\rangle) $$\n",
    "\n",
    "Hint: Start with the circuit above to produce a two qubit cat state."
   ]
  },
  {
   "cell_type": "markdown",
   "metadata": {},
   "source": [
    "[Your Answer Here]"
   ]
  },
  {
   "cell_type": "markdown",
   "metadata": {},
   "source": [
    "### Problem 2: Super Superpositions\n",
    "\n",
    "The real power of quantum computing comes from the parallelism. Thanks to quantum superposition states, applying a single quantum gate to $n$ qubits can affect all $2^n$ possible outcomes those qubits can have in parallel. As a result, most quantum algorithms try to take full advantage of this parallelism by starting with a state that's an equal superposition of all possible outcomes.\n",
    "\n",
    "Build a 3 qubit quantum circuit that transforms the initial state $|000\\rangle$ to an equal superposition of all 8 possible outcomes. Test your circuit using the `qasm_simulator` and plot the outcomes of 1000 shots in a histogram.\n",
    "\n",
    "Hint: In order to collect the counts of applying your circuits you need to measure your qubits and save them to a classical register. Also, the simplest solution does not require any gates that weren't used above."
   ]
  },
  {
   "cell_type": "markdown",
   "metadata": {},
   "source": [
    "[Your Answer Here]"
   ]
  }
 ],
 "metadata": {
  "kernelspec": {
   "display_name": "Python 3 (ipykernel)",
   "language": "python",
   "name": "python3"
  },
  "language_info": {
   "codemirror_mode": {
    "name": "ipython",
    "version": 3
   },
   "file_extension": ".py",
   "mimetype": "text/x-python",
   "name": "python",
   "nbconvert_exporter": "python",
   "pygments_lexer": "ipython3",
   "version": "3.12.7"
  }
 },
 "nbformat": 4,
 "nbformat_minor": 4
}
